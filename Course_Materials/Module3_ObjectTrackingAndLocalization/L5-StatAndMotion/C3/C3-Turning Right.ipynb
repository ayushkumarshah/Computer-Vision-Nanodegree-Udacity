{
 "cells": [
  {
   "cell_type": "markdown",
   "metadata": {},
   "source": [
    "# Turning Right\n",
    "\n",
    "This notebook provides some initial variables and creates one car object!\n",
    "\n",
    "This time around, you are expected to **modify the car.py file** and test out some new functionality!\n",
    "\n",
    "Your tasks for this notebook are:\n",
    "1. Add a `turn_right()` function to `car.py`\n",
    "    - There are a few ways to do this. I'd suggest looking at the code in `turn_left()` or even *using* this function.\n",
    "2. Don't forget to update the **state** as necessary, after a turn!\n",
    "3. Test out your `turn_right()` function in this notebook by visualizing the car as it moves, and printing out the state of the car to see if it matches what you expect!"
   ]
  },
  {
   "cell_type": "code",
   "execution_count": 8,
   "metadata": {},
   "outputs": [
    {
     "name": "stdout",
     "output_type": "stream",
     "text": [
      "The autoreload extension is already loaded. To reload it, use:\n",
      "  %reload_ext autoreload\n"
     ]
    }
   ],
   "source": [
    "import numpy as np\n",
    "import car\n",
    "\n",
    "%matplotlib inline\n",
    "\n",
    "# Auto-reload function so that this notebook keeps up with \n",
    "# changes in the class file \n",
    "%load_ext autoreload\n",
    "%autoreload 2"
   ]
  },
  {
   "cell_type": "markdown",
   "metadata": {},
   "source": [
    "### Create a new car object"
   ]
  },
  {
   "cell_type": "code",
   "execution_count": 9,
   "metadata": {},
   "outputs": [],
   "source": [
    "# Create a 2D world of 0's\n",
    "height = 4\n",
    "width = 6\n",
    "world = np.zeros((height, width))\n",
    "\n",
    "# Define the initial car state\n",
    "initial_position = [0, 0] # [y, x] (top-left corner)\n",
    "velocity = [0, 1] # [vy, vx] (moving to the right)\n",
    "\n",
    "# Create a car with initial params\n",
    "carla = car.Car(initial_position, velocity, world)\n"
   ]
  },
  {
   "cell_type": "markdown",
   "metadata": {},
   "source": [
    "### Directory of Python files\n",
    "\n",
    "Remember, to go back to see and change all your files, click on the orange Jupyter icon at the top left of this notebook! There you'll see this notebook and the class file `car.py`, which you'll need to open and change.\n",
    "\n",
    "I recommend opening this notebook and the car.py file in new tabs so that you can easily look at both!"
   ]
  },
  {
   "cell_type": "code",
   "execution_count": 13,
   "metadata": {},
   "outputs": [
    {
     "name": "stdout",
     "output_type": "stream",
     "text": [
      "Carla's state is: [[0, 0], [1, 0]]\n",
      "Carla's state is: [[0, 0], [0, -1]]\n"
     ]
    }
   ],
   "source": [
    "## TODO: Move carla around, using your new turn_right() function\n",
    "## Display the result and the state as it changes\n",
    "\n",
    "carla = car.Car(initial_position, velocity, world)\n",
    "carla.turn_right()\n",
    "print('Carla\\'s state is: ' + str(carla.state))\n",
    "carla.turn_right()\n",
    "print('Carla\\'s state is: ' + str(carla.state))"
   ]
  },
  {
   "cell_type": "code",
   "execution_count": 15,
   "metadata": {},
   "outputs": [
    {
     "data": {
      "image/png": "[encoded data removed]",
      "text/plain": [
       "<matplotlib.figure.Figure at 0x7fbc2917ba20>"
      ]
     },
     "metadata": {
      "needs_background": "light"
     },
     "output_type": "display_data"
    }
   ],
   "source": [
    "carla = car.Car(initial_position, velocity, world)\n",
    "for i in range(4):\n",
    "    if i > 0:\n",
    "        carla.turn_right()\n",
    "    for j in range(3):\n",
    "        carla.move()\n",
    "        \n",
    "carla.display_world()"
   ]
  },
  {
   "cell_type": "markdown",
   "metadata": {},
   "source": [
    "After you have visualized your output above, you can use the below function to check that it behaves as expected!"
   ]
  },
  {
   "cell_type": "code",
   "execution_count": 11,
   "metadata": {},
   "outputs": [
    {
     "name": "stdout",
     "output_type": "stream",
     "text": [
      "Nice work! Your turn_right() function behaves as expected.\n"
     ]
    }
   ],
   "source": [
    "from grader import test_turn_right\n",
    "\n",
    "test_turn_right()"
   ]
  },
  {
   "cell_type": "code",
   "execution_count": null,
   "metadata": {},
   "outputs": [],
   "source": []
  }
 ],
 "metadata": {
  "anaconda-cloud": {},
  "kernelspec": {
   "display_name": "Python 3",
   "language": "python",
   "name": "python3"
  },
  "language_info": {
   "codemirror_mode": {
    "name": "ipython",
    "version": 3
   },
   "file_extension": ".py",
   "mimetype": "text/x-python",
   "name": "python",
   "nbconvert_exporter": "python",
   "pygments_lexer": "ipython3",
   "version": "3.6.3"
  }
 },
 "nbformat": 4,
 "nbformat_minor": 1
}
